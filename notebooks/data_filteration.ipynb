{
 "cells": [
  {
   "cell_type": "code",
   "execution_count": 22,
   "id": "250e578b",
   "metadata": {
    "ExecuteTime": {
     "end_time": "2022-03-12T00:12:59.314133Z",
     "start_time": "2022-03-12T00:12:59.303256Z"
    }
   },
   "outputs": [],
   "source": [
    "import aiohttp\n",
    "import asyncio\n",
    "import csv\n",
    "import pandas as pd\n",
    "from tqdm import tqdm\n",
    "import json\n",
    "import string\n",
    "import math\n",
    "import re\n",
    "import emoji\n",
    "import unicodedata as ud\n",
    "\n",
    "\n",
    "tqdm.pandas()\n"
   ]
  },
  {
   "cell_type": "code",
   "execution_count": 23,
   "id": "18986aec",
   "metadata": {
    "ExecuteTime": {
     "end_time": "2022-03-12T00:13:06.052736Z",
     "start_time": "2022-03-12T00:13:03.189539Z"
    }
   },
   "outputs": [],
   "source": [
    "df=pd.read_csv(\"out.csv\")"
   ]
  },
  {
   "cell_type": "code",
   "execution_count": 24,
   "id": "7b29516b",
   "metadata": {
    "ExecuteTime": {
     "end_time": "2022-03-12T00:13:06.566476Z",
     "start_time": "2022-03-12T00:13:06.091903Z"
    }
   },
   "outputs": [],
   "source": [
    "df[\"tweet_len\"]=df[\"tweet\"].apply(lambda x: len(x))"
   ]
  },
  {
   "cell_type": "code",
   "execution_count": 19,
   "id": "edb3e61f",
   "metadata": {
    "ExecuteTime": {
     "end_time": "2022-03-11T23:30:36.161426Z",
     "start_time": "2022-03-11T23:30:36.150749Z"
    }
   },
   "outputs": [],
   "source": [
    "# x=df[df[\"tweet_len\"]==823][\"tweet\"].values"
   ]
  },
  {
   "cell_type": "code",
   "execution_count": 25,
   "id": "e21b1118",
   "metadata": {
    "ExecuteTime": {
     "end_time": "2022-03-12T00:13:09.502797Z",
     "start_time": "2022-03-12T00:13:09.500386Z"
    }
   },
   "outputs": [],
   "source": [
    "# x"
   ]
  },
  {
   "cell_type": "code",
   "execution_count": 26,
   "id": "4f93d28e",
   "metadata": {
    "ExecuteTime": {
     "end_time": "2022-03-12T00:13:10.560948Z",
     "start_time": "2022-03-12T00:13:10.538805Z"
    }
   },
   "outputs": [],
   "source": [
    "def filter_text(text:str):\n",
    "    flags={'U+1F1E6',\n",
    "            'U+1F1E7',\n",
    "            'U+1F1E9',\n",
    "            'U+1F1EA',\n",
    "            'U+1F1EC',\n",
    "            'U+1F1ED',\n",
    "            'U+1F1EE',\n",
    "            'U+1F1EF',\n",
    "            'U+1F1F0',\n",
    "            'U+1F1F1',\n",
    "            'U+1F1F2',\n",
    "            'U+1F1F3',\n",
    "            'U+1F1F4',\n",
    "            'U+1F1F5',\n",
    "            'U+1F1F6',\n",
    "            'U+1F1F7',\n",
    "            'U+1F1F8',\n",
    "            'U+1F1F9',\n",
    "            'U+1F1FC',\n",
    "            'U+1F1FE',\n",
    "            'U+1F1FF'}\n",
    "\n",
    "    # remove emojis except for flags\n",
    "    text  =''.join(char for char in text if (char in flags or not emoji.is_emoji(char)))\n",
    "    # remove mentions\n",
    "    text = re.sub(\"@[A-Za-z0-9_]+\", \"\", text)\n",
    "    # remove links\n",
    "    text = re.sub(r'\\w+:\\/{2}[\\d\\w-]+(\\.[\\d\\w-]+)*(?:(?:\\/[^\\s/]*))*', '', text)\n",
    "    # remove hashes and keep the words\n",
    "    text = text.replace(\"#\", \" \").replace(\"_\", \" \")\n",
    "    # remove all english characters\n",
    "    text = re.sub('[a-zA-Z0-9]+', '', text)\n",
    "    # replace  multiple spaces with one space\n",
    "    text = re.sub(' +', ' ',text)\n",
    "    # remove all punctionations and all digits (arabic and english)\n",
    "    text  =''.join(char for char in text if not (\n",
    "                    ud.category(char).startswith('P') or \n",
    "                    ud.category(char).startswith('Nd')))\n",
    "    return text\n",
    "                   \n",
    "   "
   ]
  },
  {
   "cell_type": "code",
   "execution_count": 28,
   "id": "56a9ea55",
   "metadata": {
    "ExecuteTime": {
     "end_time": "2022-03-12T00:14:53.647221Z",
     "start_time": "2022-03-12T00:13:38.726557Z"
    }
   },
   "outputs": [
    {
     "name": "stderr",
     "output_type": "stream",
     "text": [
      "100%|████████████████████████████████████████████████████████████████████████████████████████████████████████████████████████████████████████████████████████████████████████████████████████████| 458197/458197 [01:14<00:00, 6121.36it/s]\n"
     ]
    }
   ],
   "source": [
    "df[\"clean\"]=df[\"tweet\"].progress_apply(filter_text)"
   ]
  },
  {
   "cell_type": "code",
   "execution_count": 29,
   "id": "7db16c89",
   "metadata": {
    "ExecuteTime": {
     "end_time": "2022-03-12T00:14:58.782498Z",
     "start_time": "2022-03-12T00:14:58.746281Z"
    }
   },
   "outputs": [
    {
     "data": {
      "text/html": [
       "<div>\n",
       "<style scoped>\n",
       "    .dataframe tbody tr th:only-of-type {\n",
       "        vertical-align: middle;\n",
       "    }\n",
       "\n",
       "    .dataframe tbody tr th {\n",
       "        vertical-align: top;\n",
       "    }\n",
       "\n",
       "    .dataframe thead th {\n",
       "        text-align: right;\n",
       "    }\n",
       "</style>\n",
       "<table border=\"1\" class=\"dataframe\">\n",
       "  <thead>\n",
       "    <tr style=\"text-align: right;\">\n",
       "      <th></th>\n",
       "      <th>id</th>\n",
       "      <th>tweet</th>\n",
       "      <th>label</th>\n",
       "      <th>tweet_len</th>\n",
       "      <th>clean</th>\n",
       "    </tr>\n",
       "  </thead>\n",
       "  <tbody>\n",
       "    <tr>\n",
       "      <th>0</th>\n",
       "      <td>1175358310087892992</td>\n",
       "      <td>@Nw8ieJUwaCAAreT لكن بالنهاية .. ينتفض .. يغير .</td>\n",
       "      <td>IQ</td>\n",
       "      <td>48</td>\n",
       "      <td>لكن بالنهاية  ينتفض  يغير</td>\n",
       "    </tr>\n",
       "    <tr>\n",
       "      <th>1</th>\n",
       "      <td>1175416117793349632</td>\n",
       "      <td>@7zNqXP0yrODdRjK يعني هذا محسوب على البشر .. ح...</td>\n",
       "      <td>IQ</td>\n",
       "      <td>120</td>\n",
       "      <td>يعني هذا محسوب على البشر  حيونه ووحشيه  وتطلب...</td>\n",
       "    </tr>\n",
       "    <tr>\n",
       "      <th>2</th>\n",
       "      <td>1175450108898565888</td>\n",
       "      <td>@KanaanRema مبين من كلامه خليجي</td>\n",
       "      <td>IQ</td>\n",
       "      <td>31</td>\n",
       "      <td>مبين من كلامه خليجي</td>\n",
       "    </tr>\n",
       "    <tr>\n",
       "      <th>3</th>\n",
       "      <td>1175471073770573824</td>\n",
       "      <td>@HAIDER76128900 يسلملي مرورك وروحك الحلوه💐</td>\n",
       "      <td>IQ</td>\n",
       "      <td>42</td>\n",
       "      <td>يسلملي مرورك وروحك الحلوه</td>\n",
       "    </tr>\n",
       "    <tr>\n",
       "      <th>4</th>\n",
       "      <td>1175496913145217024</td>\n",
       "      <td>@hmo2406 وين هل الغيبه  اخ محمد 🌸🌺</td>\n",
       "      <td>IQ</td>\n",
       "      <td>34</td>\n",
       "      <td>وين هل الغيبه اخ محمد</td>\n",
       "    </tr>\n",
       "    <tr>\n",
       "      <th>...</th>\n",
       "      <td>...</td>\n",
       "      <td>...</td>\n",
       "      <td>...</td>\n",
       "      <td>...</td>\n",
       "      <td>...</td>\n",
       "    </tr>\n",
       "    <tr>\n",
       "      <th>458192</th>\n",
       "      <td>1019484980282580992</td>\n",
       "      <td>@Al_mhbaa_7 مبسوطين منك اللي باسطانا😅</td>\n",
       "      <td>BH</td>\n",
       "      <td>37</td>\n",
       "      <td>مبسوطين منك اللي باسطانا</td>\n",
       "    </tr>\n",
       "    <tr>\n",
       "      <th>458193</th>\n",
       "      <td>1021083283709407232</td>\n",
       "      <td>@Zzainabali @P_ameerah والله ماينده ابش يختي</td>\n",
       "      <td>BH</td>\n",
       "      <td>44</td>\n",
       "      <td>والله ماينده ابش يختي</td>\n",
       "    </tr>\n",
       "    <tr>\n",
       "      <th>458194</th>\n",
       "      <td>1017477537889431552</td>\n",
       "      <td>@Al_mhbaa_7 شو عملنا لك حنا تهربي مننا احنا مس...</td>\n",
       "      <td>BH</td>\n",
       "      <td>73</td>\n",
       "      <td>شو عملنا لك حنا تهربي مننا احنا مساكين ليش بت...</td>\n",
       "    </tr>\n",
       "    <tr>\n",
       "      <th>458195</th>\n",
       "      <td>1022430374696239232</td>\n",
       "      <td>@haneenalmwla الله يبارك فيها وبالعافيه 😋😋😋</td>\n",
       "      <td>BH</td>\n",
       "      <td>43</td>\n",
       "      <td>الله يبارك فيها وبالعافيه</td>\n",
       "    </tr>\n",
       "    <tr>\n",
       "      <th>458196</th>\n",
       "      <td>1022409931029458944</td>\n",
       "      <td>@jolnar121 السحله ضيفي ي بتطلع لك سحليه😅😅</td>\n",
       "      <td>BH</td>\n",
       "      <td>41</td>\n",
       "      <td>السحله ضيفي ي بتطلع لك سحليه</td>\n",
       "    </tr>\n",
       "  </tbody>\n",
       "</table>\n",
       "<p>458197 rows × 5 columns</p>\n",
       "</div>"
      ],
      "text/plain": [
       "                         id  \\\n",
       "0       1175358310087892992   \n",
       "1       1175416117793349632   \n",
       "2       1175450108898565888   \n",
       "3       1175471073770573824   \n",
       "4       1175496913145217024   \n",
       "...                     ...   \n",
       "458192  1019484980282580992   \n",
       "458193  1021083283709407232   \n",
       "458194  1017477537889431552   \n",
       "458195  1022430374696239232   \n",
       "458196  1022409931029458944   \n",
       "\n",
       "                                                    tweet label  tweet_len  \\\n",
       "0        @Nw8ieJUwaCAAreT لكن بالنهاية .. ينتفض .. يغير .    IQ         48   \n",
       "1       @7zNqXP0yrODdRjK يعني هذا محسوب على البشر .. ح...    IQ        120   \n",
       "2                         @KanaanRema مبين من كلامه خليجي    IQ         31   \n",
       "3              @HAIDER76128900 يسلملي مرورك وروحك الحلوه💐    IQ         42   \n",
       "4                      @hmo2406 وين هل الغيبه  اخ محمد 🌸🌺    IQ         34   \n",
       "...                                                   ...   ...        ...   \n",
       "458192              @Al_mhbaa_7 مبسوطين منك اللي باسطانا😅    BH         37   \n",
       "458193       @Zzainabali @P_ameerah والله ماينده ابش يختي    BH         44   \n",
       "458194  @Al_mhbaa_7 شو عملنا لك حنا تهربي مننا احنا مس...    BH         73   \n",
       "458195        @haneenalmwla الله يبارك فيها وبالعافيه 😋😋😋    BH         43   \n",
       "458196          @jolnar121 السحله ضيفي ي بتطلع لك سحليه😅😅    BH         41   \n",
       "\n",
       "                                                    clean  \n",
       "0                              لكن بالنهاية  ينتفض  يغير   \n",
       "1        يعني هذا محسوب على البشر  حيونه ووحشيه  وتطلب...  \n",
       "2                                     مبين من كلامه خليجي  \n",
       "3                               يسلملي مرورك وروحك الحلوه  \n",
       "4                                  وين هل الغيبه اخ محمد   \n",
       "...                                                   ...  \n",
       "458192                           مبسوطين منك اللي باسطانا  \n",
       "458193                              والله ماينده ابش يختي  \n",
       "458194   شو عملنا لك حنا تهربي مننا احنا مساكين ليش بت...  \n",
       "458195                         الله يبارك فيها وبالعافيه   \n",
       "458196                       السحله ضيفي ي بتطلع لك سحليه  \n",
       "\n",
       "[458197 rows x 5 columns]"
      ]
     },
     "execution_count": 29,
     "metadata": {},
     "output_type": "execute_result"
    }
   ],
   "source": [
    "df"
   ]
  },
  {
   "cell_type": "code",
   "execution_count": 50,
   "id": "64e2959c",
   "metadata": {
    "ExecuteTime": {
     "end_time": "2022-03-11T14:22:41.883674Z",
     "start_time": "2022-03-11T14:22:41.875286Z"
    }
   },
   "outputs": [],
   "source": [
    "\n",
    "def remove_emoji(text):\n",
    "    \n",
    "    text  =''.join(char for char in text if  any ([not emoji.is_emoji(char),char in flags]))\n",
    "                   \n",
    "    return text\n"
   ]
  },
  {
   "cell_type": "code",
   "execution_count": 51,
   "id": "f96c4eb6",
   "metadata": {
    "ExecuteTime": {
     "end_time": "2022-03-11T14:22:42.690499Z",
     "start_time": "2022-03-11T14:22:42.683641Z"
    }
   },
   "outputs": [],
   "source": [
    "def remove_punct(text):\n",
    "    \n",
    "    text  =''.join(char for char in text if not (\n",
    "        ud.category(char).startswith('P') or \n",
    "        ud.category(char).startswith('Nd')))\n",
    "                   \n",
    "    text = re.sub('[a-zA-Z0-9]+', '', text)\n",
    "    return text\n"
   ]
  },
  {
   "cell_type": "code",
   "execution_count": 52,
   "id": "45c2be6d",
   "metadata": {
    "ExecuteTime": {
     "end_time": "2022-03-11T14:22:43.667541Z",
     "start_time": "2022-03-11T14:22:43.656174Z"
    }
   },
   "outputs": [],
   "source": [
    "\n",
    "def remove_links(text):\n",
    "    text = re.sub(r'\\w+:\\/{2}[\\d\\w-]+(\\.[\\d\\w-]+)*(?:(?:\\/[^\\s/]*))*', '', text)\n",
    "    return text\n"
   ]
  },
  {
   "cell_type": "code",
   "execution_count": 47,
   "id": "2e05a1a9",
   "metadata": {
    "ExecuteTime": {
     "end_time": "2022-03-11T14:21:41.585272Z",
     "start_time": "2022-03-11T14:19:22.391007Z"
    }
   },
   "outputs": [
    {
     "name": "stdout",
     "output_type": "stream",
     "text": [
      "done\n",
      "done\n",
      "done\n",
      "done\n",
      "done\n"
     ]
    }
   ],
   "source": [
    "df[\"tweet_clean\"] = df[\"tweet\"].apply(remove_emoji)\n",
    "\n",
    "df[\"tweet_clean\"] = df[\"tweet_clean\"].apply(lambda tweet: re.sub(\"@[A-Za-z0-9_]+\", \"\", tweet))  # remove mentions\n",
    "\n",
    "df[\"tweet_clean\"] = df[\"tweet_clean\"].apply(lambda tweet: re.sub(' +', ' ',tweet))\n",
    "\n",
    "\n",
    "df[\"tweet_clean\"] = df[\"tweet_clean\"].apply(remove_links)\n",
    "\n",
    "\n",
    "df[\"tweet_clean\"] = df[\"tweet_clean\"].apply(lambda tweet: tweet.replace(\"#\", \" \").replace(\"_\", \" \"))  # split hashtags\n",
    "\n",
    "df[\"tweet_clean\"] = df[\"tweet_clean\"].apply(remove_punct)"
   ]
  },
  {
   "cell_type": "code",
   "execution_count": 53,
   "id": "7b7bf7dd",
   "metadata": {
    "ExecuteTime": {
     "end_time": "2022-03-11T14:22:51.985575Z",
     "start_time": "2022-03-11T14:22:50.232133Z"
    }
   },
   "outputs": [],
   "source": [
    "text=\"\\n\".join(df[\"tweet\"])\n",
    "with open(\"full tweets.txt\",\"w\") as f:\n",
    "    f.write(text)"
   ]
  },
  {
   "cell_type": "code",
   "execution_count": 54,
   "id": "c57b5ef1",
   "metadata": {
    "ExecuteTime": {
     "end_time": "2022-03-11T14:22:57.947345Z",
     "start_time": "2022-03-11T14:22:56.370019Z"
    }
   },
   "outputs": [],
   "source": [
    "text=\"\\n\".join(df[\"tweet_clean\"])\n",
    "\n",
    "with open(\"full tweets clean.txt\",\"w\") as f:\n",
    "    f.write(text)"
   ]
  },
  {
   "cell_type": "code",
   "execution_count": null,
   "id": "480f5958",
   "metadata": {
    "ExecuteTime": {
     "start_time": "2022-03-11T13:44:16.187Z"
    }
   },
   "outputs": [],
   "source": [
    "# "
   ]
  },
  {
   "cell_type": "code",
   "execution_count": null,
   "id": "77cfb039",
   "metadata": {},
   "outputs": [],
   "source": []
  }
 ],
 "metadata": {
  "kernelspec": {
   "display_name": "Python 3 (ipykernel)",
   "language": "python",
   "name": "python3"
  },
  "language_info": {
   "codemirror_mode": {
    "name": "ipython",
    "version": 3
   },
   "file_extension": ".py",
   "mimetype": "text/x-python",
   "name": "python",
   "nbconvert_exporter": "python",
   "pygments_lexer": "ipython3",
   "version": "3.7.11"
  },
  "varInspector": {
   "cols": {
    "lenName": 16,
    "lenType": 16,
    "lenVar": 40
   },
   "kernels_config": {
    "python": {
     "delete_cmd_postfix": "",
     "delete_cmd_prefix": "del ",
     "library": "var_list.py",
     "varRefreshCmd": "print(var_dic_list())"
    },
    "r": {
     "delete_cmd_postfix": ") ",
     "delete_cmd_prefix": "rm(",
     "library": "var_list.r",
     "varRefreshCmd": "cat(var_dic_list()) "
    }
   },
   "types_to_exclude": [
    "module",
    "function",
    "builtin_function_or_method",
    "instance",
    "_Feature"
   ],
   "window_display": false
  }
 },
 "nbformat": 4,
 "nbformat_minor": 5
}
