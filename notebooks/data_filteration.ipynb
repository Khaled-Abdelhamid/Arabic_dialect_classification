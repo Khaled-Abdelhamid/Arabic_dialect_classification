{
 "cells": [
  {
   "cell_type": "markdown",
   "id": "26b07352",
   "metadata": {},
   "source": [
    "This notebook was used for development only, all the functional logic is already embbeded in dataset_loading notebook"
   ]
  },
  {
   "cell_type": "markdown",
   "id": "e527f32c",
   "metadata": {},
   "source": [
    "# importing libraries"
   ]
  },
  {
   "cell_type": "code",
   "execution_count": 1,
   "id": "250e578b",
   "metadata": {
    "ExecuteTime": {
     "end_time": "2022-03-14T16:54:48.016132Z",
     "start_time": "2022-03-14T16:54:45.951924Z"
    }
   },
   "outputs": [],
   "source": [
    "\n",
    "import pandas as pd\n",
    "from tqdm import tqdm\n",
    "import re\n",
    "import emoji\n",
    "import unicodedata as ud\n",
    "\n",
    "\n",
    "tqdm.pandas()\n"
   ]
  },
  {
   "cell_type": "markdown",
   "id": "d67e1b83",
   "metadata": {},
   "source": [
    "# loading data and intial inspection"
   ]
  },
  {
   "cell_type": "code",
   "execution_count": 2,
   "id": "18986aec",
   "metadata": {
    "ExecuteTime": {
     "end_time": "2022-03-14T16:55:27.113823Z",
     "start_time": "2022-03-14T16:55:21.922530Z"
    }
   },
   "outputs": [],
   "source": [
    "df=pd.read_csv(\"../data/interim/out.csv\",sep=\"|\")"
   ]
  },
  {
   "cell_type": "code",
   "execution_count": 3,
   "id": "7b29516b",
   "metadata": {
    "ExecuteTime": {
     "end_time": "2022-03-14T16:55:29.138063Z",
     "start_time": "2022-03-14T16:55:28.302958Z"
    }
   },
   "outputs": [],
   "source": [
    "df[\"tweet_len\"]=df[\"tweet\"].apply(lambda x: len(x))"
   ]
  },
  {
   "cell_type": "code",
   "execution_count": 6,
   "id": "4f93d28e",
   "metadata": {
    "ExecuteTime": {
     "end_time": "2022-03-14T16:55:31.189792Z",
     "start_time": "2022-03-14T16:55:31.172302Z"
    }
   },
   "outputs": [],
   "source": [
    "def filter_text(text:str):\n",
    "    flags={'U+1F1E6',\n",
    "            'U+1F1E7',\n",
    "            'U+1F1E9',\n",
    "            'U+1F1EA',\n",
    "            'U+1F1EC',\n",
    "            'U+1F1ED',\n",
    "            'U+1F1EE',\n",
    "            'U+1F1EF',\n",
    "            'U+1F1F0',\n",
    "            'U+1F1F1',\n",
    "            'U+1F1F2',\n",
    "            'U+1F1F3',\n",
    "            'U+1F1F4',\n",
    "            'U+1F1F5',\n",
    "            'U+1F1F6',\n",
    "            'U+1F1F7',\n",
    "            'U+1F1F8',\n",
    "            'U+1F1F9',\n",
    "            'U+1F1FC',\n",
    "            'U+1F1FE',\n",
    "            'U+1F1FF'}\n",
    "\n",
    "    # remove emojis except for flags\n",
    "    text  =''.join(char for char in text if (char in flags or not emoji.is_emoji(char)))\n",
    "    # remove mentions\n",
    "    text = re.sub(\"@[A-Za-z0-9_]+\", \"\", text)\n",
    "    # remove links\n",
    "    text = re.sub(r'\\w+:\\/{2}[\\d\\w-]+(\\.[\\d\\w-]+)*(?:(?:\\/[^\\s/]*))*', '', text)\n",
    "    # remove hashes and keep the words\n",
    "    text = text.replace(\"#\", \" \").replace(\"_\", \" \")\n",
    "    # remove all english characters\n",
    "    text = re.sub('[a-zA-Z0-9]+', '', text)\n",
    "    # replace  multiple spaces with one space\n",
    "    text = re.sub(' +', ' ',text)\n",
    "    # remove all punctionations and all digits (arabic and english)\n",
    "    text  =''.join(char for char in text if not (\n",
    "                    ud.category(char).startswith('P') or \n",
    "                    ud.category(char).startswith('Nd')))\n",
    "    return text\n",
    "                   \n",
    "   "
   ]
  },
  {
   "cell_type": "code",
   "execution_count": 5,
   "id": "56a9ea55",
   "metadata": {
    "ExecuteTime": {
     "end_time": "2022-03-14T16:57:26.699121Z",
     "start_time": "2022-03-14T16:55:32.002199Z"
    }
   },
   "outputs": [
    {
     "name": "stderr",
     "output_type": "stream",
     "text": [
      "100%|██████████| 458183/458183 [03:32<00:00, 2153.01it/s]\n"
     ]
    }
   ],
   "source": [
    "df[\"clean\"]=df[\"tweet\"].progress_apply(filter_text)"
   ]
  },
  {
   "cell_type": "code",
   "execution_count": 7,
   "id": "7db16c89",
   "metadata": {
    "ExecuteTime": {
     "end_time": "2022-03-12T00:14:58.782498Z",
     "start_time": "2022-03-12T00:14:58.746281Z"
    }
   },
   "outputs": [
    {
     "data": {
      "text/html": [
       "<div>\n",
       "<style scoped>\n",
       "    .dataframe tbody tr th:only-of-type {\n",
       "        vertical-align: middle;\n",
       "    }\n",
       "\n",
       "    .dataframe tbody tr th {\n",
       "        vertical-align: top;\n",
       "    }\n",
       "\n",
       "    .dataframe thead th {\n",
       "        text-align: right;\n",
       "    }\n",
       "</style>\n",
       "<table border=\"1\" class=\"dataframe\">\n",
       "  <thead>\n",
       "    <tr style=\"text-align: right;\">\n",
       "      <th></th>\n",
       "      <th>id</th>\n",
       "      <th>tweet</th>\n",
       "      <th>label</th>\n",
       "      <th>tweet_len</th>\n",
       "      <th>clean</th>\n",
       "    </tr>\n",
       "  </thead>\n",
       "  <tbody>\n",
       "    <tr>\n",
       "      <th>0</th>\n",
       "      <td>1175358310087892992</td>\n",
       "      <td>لكن بالنهاية  ينتفض  يغير</td>\n",
       "      <td>IQ</td>\n",
       "      <td>27</td>\n",
       "      <td>لكن بالنهاية ينتفض يغير</td>\n",
       "    </tr>\n",
       "    <tr>\n",
       "      <th>1</th>\n",
       "      <td>1175416117793349632</td>\n",
       "      <td>يعني هذا محسوب على البشر  حيونه ووحشيه  وتطلب...</td>\n",
       "      <td>IQ</td>\n",
       "      <td>98</td>\n",
       "      <td>يعني هذا محسوب على البشر حيونه ووحشيه وتطلبون...</td>\n",
       "    </tr>\n",
       "    <tr>\n",
       "      <th>2</th>\n",
       "      <td>1175450108898565888</td>\n",
       "      <td>مبين من كلامه خليجي</td>\n",
       "      <td>IQ</td>\n",
       "      <td>20</td>\n",
       "      <td>مبين من كلامه خليجي</td>\n",
       "    </tr>\n",
       "    <tr>\n",
       "      <th>3</th>\n",
       "      <td>1175471073770573824</td>\n",
       "      <td>يسلملي مرورك وروحك الحلوه</td>\n",
       "      <td>IQ</td>\n",
       "      <td>26</td>\n",
       "      <td>يسلملي مرورك وروحك الحلوه</td>\n",
       "    </tr>\n",
       "    <tr>\n",
       "      <th>4</th>\n",
       "      <td>1175496913145217024</td>\n",
       "      <td>وين هل الغيبه اخ محمد</td>\n",
       "      <td>IQ</td>\n",
       "      <td>23</td>\n",
       "      <td>وين هل الغيبه اخ محمد</td>\n",
       "    </tr>\n",
       "    <tr>\n",
       "      <th>...</th>\n",
       "      <td>...</td>\n",
       "      <td>...</td>\n",
       "      <td>...</td>\n",
       "      <td>...</td>\n",
       "      <td>...</td>\n",
       "    </tr>\n",
       "    <tr>\n",
       "      <th>458178</th>\n",
       "      <td>1021088486915559424</td>\n",
       "      <td>مرو خذوني وياكم بالاحمر</td>\n",
       "      <td>BH</td>\n",
       "      <td>25</td>\n",
       "      <td>مرو خذوني وياكم بالاحمر</td>\n",
       "    </tr>\n",
       "    <tr>\n",
       "      <th>458179</th>\n",
       "      <td>1024943651569446784</td>\n",
       "      <td>هاي لو كنت حابه تاكلي شو طلبك</td>\n",
       "      <td>BH</td>\n",
       "      <td>30</td>\n",
       "      <td>هاي لو كنت حابه تاكلي شو طلبك</td>\n",
       "    </tr>\n",
       "    <tr>\n",
       "      <th>458180</th>\n",
       "      <td>1018588912648904832</td>\n",
       "      <td>الحين نسوي ربيان مشوي حياكم</td>\n",
       "      <td>BH</td>\n",
       "      <td>28</td>\n",
       "      <td>الحين نسوي ربيان مشوي حياكم</td>\n",
       "    </tr>\n",
       "    <tr>\n",
       "      <th>458181</th>\n",
       "      <td>1024945458576273408</td>\n",
       "      <td>الله يغفر لكم\\nمساء الوررررد</td>\n",
       "      <td>BH</td>\n",
       "      <td>28</td>\n",
       "      <td>الله يغفر لكم\\nمساء الوررررد</td>\n",
       "    </tr>\n",
       "    <tr>\n",
       "      <th>458182</th>\n",
       "      <td>1018270352013656064</td>\n",
       "      <td>يمكن تعرفين بخورة السوق امس او اليوم كانت حاط...</td>\n",
       "      <td>BH</td>\n",
       "      <td>158</td>\n",
       "      <td>يمكن تعرفين بخورة السوق امس او اليوم كانت حاط...</td>\n",
       "    </tr>\n",
       "  </tbody>\n",
       "</table>\n",
       "<p>458183 rows × 5 columns</p>\n",
       "</div>"
      ],
      "text/plain": [
       "                         id  \\\n",
       "0       1175358310087892992   \n",
       "1       1175416117793349632   \n",
       "2       1175450108898565888   \n",
       "3       1175471073770573824   \n",
       "4       1175496913145217024   \n",
       "...                     ...   \n",
       "458178  1021088486915559424   \n",
       "458179  1024943651569446784   \n",
       "458180  1018588912648904832   \n",
       "458181  1024945458576273408   \n",
       "458182  1018270352013656064   \n",
       "\n",
       "                                                    tweet label  tweet_len  \\\n",
       "0                              لكن بالنهاية  ينتفض  يغير     IQ         27   \n",
       "1        يعني هذا محسوب على البشر  حيونه ووحشيه  وتطلب...    IQ         98   \n",
       "2                                     مبين من كلامه خليجي    IQ         20   \n",
       "3                               يسلملي مرورك وروحك الحلوه    IQ         26   \n",
       "4                                  وين هل الغيبه اخ محمد     IQ         23   \n",
       "...                                                   ...   ...        ...   \n",
       "458178                           مرو خذوني وياكم بالاحمر     BH         25   \n",
       "458179                      هاي لو كنت حابه تاكلي شو طلبك    BH         30   \n",
       "458180                        الحين نسوي ربيان مشوي حياكم    BH         28   \n",
       "458181                       الله يغفر لكم\\nمساء الوررررد    BH         28   \n",
       "458182   يمكن تعرفين بخورة السوق امس او اليوم كانت حاط...    BH        158   \n",
       "\n",
       "                                                    clean  \n",
       "0                                لكن بالنهاية ينتفض يغير   \n",
       "1        يعني هذا محسوب على البشر حيونه ووحشيه وتطلبون...  \n",
       "2                                     مبين من كلامه خليجي  \n",
       "3                               يسلملي مرورك وروحك الحلوه  \n",
       "4                                  وين هل الغيبه اخ محمد   \n",
       "...                                                   ...  \n",
       "458178                           مرو خذوني وياكم بالاحمر   \n",
       "458179                      هاي لو كنت حابه تاكلي شو طلبك  \n",
       "458180                        الحين نسوي ربيان مشوي حياكم  \n",
       "458181                       الله يغفر لكم\\nمساء الوررررد  \n",
       "458182   يمكن تعرفين بخورة السوق امس او اليوم كانت حاط...  \n",
       "\n",
       "[458183 rows x 5 columns]"
      ]
     },
     "execution_count": 7,
     "metadata": {},
     "output_type": "execute_result"
    }
   ],
   "source": [
    "df"
   ]
  },
  {
   "cell_type": "code",
   "execution_count": 8,
   "id": "64e2959c",
   "metadata": {
    "ExecuteTime": {
     "end_time": "2022-03-11T14:22:41.883674Z",
     "start_time": "2022-03-11T14:22:41.875286Z"
    }
   },
   "outputs": [],
   "source": [
    "\n",
    "def remove_emoji(text):\n",
    "    \n",
    "    text  =''.join(char for char in text if  any ([not emoji.is_emoji(char),char in flags]))\n",
    "                   \n",
    "    return text\n"
   ]
  },
  {
   "cell_type": "code",
   "execution_count": 9,
   "id": "f96c4eb6",
   "metadata": {
    "ExecuteTime": {
     "end_time": "2022-03-11T14:22:42.690499Z",
     "start_time": "2022-03-11T14:22:42.683641Z"
    }
   },
   "outputs": [],
   "source": [
    "def remove_punct(text):\n",
    "    \n",
    "    text  =''.join(char for char in text if not (\n",
    "        ud.category(char).startswith('P') or \n",
    "        ud.category(char).startswith('Nd')))\n",
    "                   \n",
    "    text = re.sub('[a-zA-Z0-9]+', '', text)\n",
    "    return text\n"
   ]
  },
  {
   "cell_type": "code",
   "execution_count": 10,
   "id": "45c2be6d",
   "metadata": {
    "ExecuteTime": {
     "end_time": "2022-03-11T14:22:43.667541Z",
     "start_time": "2022-03-11T14:22:43.656174Z"
    }
   },
   "outputs": [],
   "source": [
    "\n",
    "def remove_links(text):\n",
    "    text = re.sub(r'\\w+:\\/{2}[\\d\\w-]+(\\.[\\d\\w-]+)*(?:(?:\\/[^\\s/]*))*', '', text)\n",
    "    return text\n"
   ]
  },
  {
   "cell_type": "code",
   "execution_count": 47,
   "id": "2e05a1a9",
   "metadata": {
    "ExecuteTime": {
     "end_time": "2022-03-11T14:21:41.585272Z",
     "start_time": "2022-03-11T14:19:22.391007Z"
    }
   },
   "outputs": [
    {
     "name": "stdout",
     "output_type": "stream",
     "text": [
      "done\n",
      "done\n",
      "done\n",
      "done\n",
      "done\n"
     ]
    }
   ],
   "source": [
    "df[\"tweet_clean\"] = df[\"tweet\"].progress_apply(remove_emoji)\n",
    "\n",
    "df[\"tweet_clean\"] = df[\"tweet_clean\"].progress_apply(lambda tweet: re.sub(\"@[A-Za-z0-9_]+\", \"\", tweet))  # remove mentions\n",
    "\n",
    "df[\"tweet_clean\"] = df[\"tweet_clean\"].progress_apply(lambda tweet: re.sub(' +', ' ',tweet))\n",
    "\n",
    "\n",
    "df[\"tweet_clean\"] = df[\"tweet_clean\"].progress_apply(remove_links)\n",
    "\n",
    "\n",
    "df[\"tweet_clean\"] = df[\"tweet_clean\"].progress_apply(lambda tweet: tweet.replace(\"#\", \" \").replace(\"_\", \" \"))  # split hashtags\n",
    "\n",
    "df[\"tweet_clean\"] = df[\"tweet_clean\"].progress_apply(remove_punct)"
   ]
  },
  {
   "cell_type": "code",
   "execution_count": 53,
   "id": "7b7bf7dd",
   "metadata": {
    "ExecuteTime": {
     "end_time": "2022-03-11T14:22:51.985575Z",
     "start_time": "2022-03-11T14:22:50.232133Z"
    }
   },
   "outputs": [],
   "source": [
    "text=\"\\n\".join(df[\"tweet\"])\n",
    "with open(\"full tweets.txt\",\"w\") as f:\n",
    "    f.write(text)"
   ]
  },
  {
   "cell_type": "code",
   "execution_count": 54,
   "id": "c57b5ef1",
   "metadata": {
    "ExecuteTime": {
     "end_time": "2022-03-11T14:22:57.947345Z",
     "start_time": "2022-03-11T14:22:56.370019Z"
    }
   },
   "outputs": [],
   "source": [
    "text=\"\\n\".join(df[\"tweet_clean\"])\n",
    "\n",
    "with open(\"full tweets clean.txt\",\"w\") as f:\n",
    "    f.write(text)"
   ]
  }
 ],
 "metadata": {
  "kernelspec": {
   "display_name": "Python 3 (ipykernel)",
   "language": "python",
   "name": "python3"
  },
  "language_info": {
   "codemirror_mode": {
    "name": "ipython",
    "version": 3
   },
   "file_extension": ".py",
   "mimetype": "text/x-python",
   "name": "python",
   "nbconvert_exporter": "python",
   "pygments_lexer": "ipython3",
   "version": "3.7.11"
  },
  "varInspector": {
   "cols": {
    "lenName": 16,
    "lenType": 16,
    "lenVar": 40
   },
   "kernels_config": {
    "python": {
     "delete_cmd_postfix": "",
     "delete_cmd_prefix": "del ",
     "library": "var_list.py",
     "varRefreshCmd": "print(var_dic_list())"
    },
    "r": {
     "delete_cmd_postfix": ") ",
     "delete_cmd_prefix": "rm(",
     "library": "var_list.r",
     "varRefreshCmd": "cat(var_dic_list()) "
    }
   },
   "types_to_exclude": [
    "module",
    "function",
    "builtin_function_or_method",
    "instance",
    "_Feature"
   ],
   "window_display": false
  }
 },
 "nbformat": 4,
 "nbformat_minor": 5
}
